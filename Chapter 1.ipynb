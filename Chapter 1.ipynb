{
 "cells": [
  {
   "cell_type": "markdown",
   "metadata": {},
   "source": [
    "# Deep Learning"
   ]
  },
  {
   "cell_type": "markdown",
   "metadata": {},
   "source": [
    "1. What is Deep Learning ?\n",
    "\n",
    "Deep learning is a subset of machine learning that uses artificial neural networks with multiple layers (hence \"deep\") to learn patterns in data. Think of it like teaching a computer to recognize patterns the way our brain does - through layers of interconnected neurons.\n",
    "\n",
    "\n"
   ]
  },
  {
   "cell_type": "markdown",
   "metadata": {},
   "source": [
    "2. Diffrence Between Deep Learning and Machine Learning ?\n",
    "\n",
    "We measure  model in two paramters one is Data and Performance.\n",
    "\n",
    "1. In Traditional Machine Learning model when we increase the data after specific time the performance of Data will not increase and in case of Deep Learning when we increase the data the performance will increase.\n",
    "\n",
    "2. "
   ]
  },
  {
   "cell_type": "markdown",
   "metadata": {},
   "source": []
  }
 ],
 "metadata": {
  "language_info": {
   "name": "python"
  }
 },
 "nbformat": 4,
 "nbformat_minor": 2
}
